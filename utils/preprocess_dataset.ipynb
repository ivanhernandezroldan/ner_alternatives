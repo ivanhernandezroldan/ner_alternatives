{
 "cells": [
  {
   "cell_type": "code",
   "execution_count": 42,
   "metadata": {},
   "outputs": [],
   "source": [
    "import os \n",
    "\n",
    "import pandas as pd"
   ]
  },
  {
   "cell_type": "code",
   "execution_count": 43,
   "metadata": {},
   "outputs": [],
   "source": [
    "# preprocesar el reconocimiento de entidades del dataset etiquetado escogido\n",
    "def filter_annotations(input_string):\n",
    "    # Dividir el string en líneas individuales\n",
    "    lines = input_string.strip().split('\\n')\n",
    "    \n",
    "    # Filtrar solo las líneas que comienzan con 'T' seguidas de un número\n",
    "    result_lines = []\n",
    "    for line in lines:\n",
    "        if line.startswith('T') and 'AnnotatorNotes' not in line:\n",
    "            # Remover el prefijo (T1, T2, etc.)\n",
    "            parts = line.split('\\t', 1)\n",
    "            if len(parts) > 1:\n",
    "                result_lines.append(parts[1])\n",
    "    \n",
    "    # Unir las líneas filtradas en un solo string\n",
    "    return '\\n'.join(result_lines)"
   ]
  },
  {
   "cell_type": "code",
   "execution_count": 44,
   "metadata": {},
   "outputs": [],
   "source": [
    "# Ejemplo de uso\n",
    "input_string = \"\"\"T1\tADR 0 8\tHEADACHE\n",
    "T2\tADR 21 50\tSWELLING OF THE LEGS AND FEET\n",
    "#1\tAnnotatorNotes T2\tpedal oedema\n",
    "T3\tADR 52 71\tHIGH BLOOD PRESSURE\n",
    "T4\tADR 73 90\tBLADDER INFECTION\n",
    "T5\tADR 130 138\tSWELLING\n",
    "T6\tADR 237 270\tBLADDER NOT TO EMPTY AS IT SHOULD\n",
    "T7\tADR 188 205\tBLADDER INFECTION\n",
    "T8\tSymptom 296 300\tPAIN\n",
    "T9\tDrug 312 317\tALEVE\"\"\"\n",
    "\n",
    "output_string = filter_annotations(input_string)\n",
    "print(output_string)"
   ]
  },
  {
   "cell_type": "code",
   "execution_count": 67,
   "metadata": {},
   "outputs": [],
   "source": [
    "TEXTS_DIR = os.path.join(os.getcwd(), '..', 'ner_dataset', 'text')\n",
    "ORIGINAL_ANNOTATIONS_DIR = os.path.join(os.getcwd(), '..', 'ner_dataset', 'original')"
   ]
  },
  {
   "cell_type": "code",
   "execution_count": 60,
   "metadata": {},
   "outputs": [
    {
     "name": "stdout",
     "output_type": "stream",
     "text": [
      "1250\n"
     ]
    }
   ],
   "source": [
    "all_files = os.listdir(TEXTS_DIR)\n",
    "processed_texts = []\n",
    "i = 0\n",
    "\n",
    "# Recorrer todos los archivos y almacenar el contenido de los archivos .txt en una lista\n",
    "for file_name in all_files:\n",
    "    file_path = os.path.join(TEXTS_DIR, file_name)\n",
    "    if file_name.endswith('.txt'):\n",
    "        with open(file_path, 'r') as file:\n",
    "            processed_text = file.read()\n",
    "            file_name_without_extension = file_name.split('.')[0]\n",
    "            processed_texts.append({\n",
    "                'file_name': file_name_without_extension,\n",
    "                'text': processed_text\n",
    "            })\n",
    "        i += 1\n",
    "print(i)\n",
    "    "
   ]
  },
  {
   "cell_type": "code",
   "execution_count": 66,
   "metadata": {},
   "outputs": [
    {
     "name": "stdout",
     "output_type": "stream",
     "text": [
      "<bound method NDFrame.head of       file_name                                               text\n",
      "0     ARTHROTEC  I feel a bit drowsy & have a little blurred vi...\n",
      "1     ARTHROTEC  Hunger pangs.\\nBrilliant, I have a new lease o...\n",
      "2     ARTHROTEC  no side effects for the first two months .\\nth...\n",
      "3     ARTHROTEC  1st pill taken with food, a few hours after i ...\n",
      "4     ARTHROTEC  I have had no side effects been taking Arthrot...\n",
      "...         ...                                                ...\n",
      "1245     ZIPSOR                       nausea.\\nsome pain relief.\\n\n",
      "1246     ZIPSOR  Haven't really experienced any side effects th...\n",
      "1247     ZIPSOR  stiff neck, tightness in shoulders, muscle pai...\n",
      "1248     ZIPSOR  Gave pretty good pain relief, with no side eff...\n",
      "1249     ZIPSOR  I was prescribed Zipsor for bone and joint pai...\n",
      "\n",
      "[1250 rows x 2 columns]>\n"
     ]
    }
   ],
   "source": [
    "# pasar la lista a dataframe\n",
    "\n",
    "df = pd.DataFrame(processed_texts)\n",
    "print(df.head)"
   ]
  },
  {
   "cell_type": "code",
   "execution_count": null,
   "metadata": {},
   "outputs": [],
   "source": [
    "all_files = os.listdir(ORIGINAL_ANNOTATIONS_DIR)\n",
    "processed_annotations = []\n",
    "i = 0\n",
    "\n",
    "# Recorrer todos los archivos y almacenar el contenido de los archivos .txt en una lista\n",
    "for file_name in all_files:\n",
    "    file_path = os.path.join(TEXTS_DIR, file_name)\n",
    "    if file_name.endswith('.txt'):\n",
    "        with open(file_path, 'r') as file:\n",
    "            annotation = file.read()\n",
    "            processed_annotation = filter_annotations(annotation)\n",
    "            file_name_without_extension = file_name.split('.')[0]\n",
    "            processed_annotations.append({\n",
    "                'file_name': file_name_without_extension,\n",
    "                'text': processed_annotation\n",
    "            })\n",
    "        i += 1\n",
    "print(i)\n",
    "    "
   ]
  }
 ],
 "metadata": {
  "kernelspec": {
   "display_name": ".venv",
   "language": "python",
   "name": "python3"
  },
  "language_info": {
   "codemirror_mode": {
    "name": "ipython",
    "version": 3
   },
   "file_extension": ".py",
   "mimetype": "text/x-python",
   "name": "python",
   "nbconvert_exporter": "python",
   "pygments_lexer": "ipython3",
   "version": "3.11.8"
  }
 },
 "nbformat": 4,
 "nbformat_minor": 2
}
