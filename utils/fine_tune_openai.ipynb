{
 "cells": [
  {
   "cell_type": "code",
   "execution_count": 113,
   "metadata": {},
   "outputs": [],
   "source": [
    "import os \n",
    "import sys\n",
    "import json\n",
    "from openai import OpenAI"
   ]
  },
  {
   "cell_type": "code",
   "execution_count": 114,
   "metadata": {},
   "outputs": [
    {
     "ename": "ImportError",
     "evalue": "cannot import name 'select_enviroment' from 'select_enviroment' (d:\\Workspace\\ner_alternatives\\utils\\select_enviroment.py)",
     "output_type": "error",
     "traceback": [
      "\u001b[1;31m---------------------------------------------------------------------------\u001b[0m",
      "\u001b[1;31mImportError\u001b[0m                               Traceback (most recent call last)",
      "Cell \u001b[1;32mIn[114], line 1\u001b[0m\n\u001b[1;32m----> 1\u001b[0m \u001b[38;5;28;01mfrom\u001b[39;00m \u001b[38;5;21;01mselect_enviroment\u001b[39;00m \u001b[38;5;28;01mimport\u001b[39;00m select_enviroment\n",
      "\u001b[1;31mImportError\u001b[0m: cannot import name 'select_enviroment' from 'select_enviroment' (d:\\Workspace\\ner_alternatives\\utils\\select_enviroment.py)"
     ]
    }
   ],
   "source": [
    "from select_enviroment import select_enviroment"
   ]
  },
  {
   "cell_type": "code",
   "execution_count": 95,
   "metadata": {},
   "outputs": [
    {
     "ename": "NameError",
     "evalue": "name 'select_enviroment_2' is not defined",
     "output_type": "error",
     "traceback": [
      "\u001b[1;31m---------------------------------------------------------------------------\u001b[0m",
      "\u001b[1;31mNameError\u001b[0m                                 Traceback (most recent call last)",
      "Cell \u001b[1;32mIn[95], line 1\u001b[0m\n\u001b[1;32m----> 1\u001b[0m \u001b[43mselect_enviroment_2\u001b[49m(\u001b[38;5;124m\"\u001b[39m\u001b[38;5;124mdefault\u001b[39m\u001b[38;5;124m\"\u001b[39m)\n",
      "\u001b[1;31mNameError\u001b[0m: name 'select_enviroment_2' is not defined"
     ]
    }
   ],
   "source": [
    "select_enviroment_2(\"default\")"
   ]
  },
  {
   "cell_type": "code",
   "execution_count": 86,
   "metadata": {},
   "outputs": [
    {
     "name": "stdout",
     "output_type": "stream",
     "text": [
      "None\n"
     ]
    }
   ],
   "source": [
    "print(os.getenv('OPENAI_API_KEY'))"
   ]
  },
  {
   "cell_type": "code",
   "execution_count": 84,
   "metadata": {},
   "outputs": [
    {
     "name": "stdout",
     "output_type": "stream",
     "text": [
      "ACLOCAL_PATH = C:\\Program Files\\Git\\mingw64\\share\\aclocal;C:\\Program Files\\Git\\usr\\share\\aclocal\n",
      "ALLUSERSPROFILE = C:\\ProgramData\n",
      "APPDATA = C:\\Users\\ivan1\\AppData\\Roaming\n",
      "APPLICATION_INSIGHTS_NO_DIAGNOSTIC_CHANNEL = 1\n",
      "CHROME_CRASHPAD_PIPE_NAME = \\\\.\\pipe\\crashpad_11292_YUXCPAIYWPJLSAJL\n",
      "COMMONPROGRAMFILES = C:\\Program Files\\Common Files\n",
      "COMMONPROGRAMFILES(X86) = C:\\Program Files (x86)\\Common Files\n",
      "COMMONPROGRAMW6432 = C:\\Program Files\\Common Files\n",
      "COMPUTERNAME = LAPTOP-K7A5MDS9\n",
      "COMSPEC = C:\\Windows\\system32\\cmd.exe\n",
      "CONFIG_SITE = C:/Program Files/Git/etc/config.site\n",
      "DISPLAY = needs-to-be-defined\n",
      "DRIVERDATA = C:\\Windows\\System32\\Drivers\\DriverData\n",
      "ELECTRON_NO_ATTACH_CONSOLE = 1\n",
      "ELECTRON_RUN_AS_NODE = 1\n",
      "EXEPATH = C:\\Program Files\\Git\n",
      "FPS_BROWSER_APP_PROFILE_STRING = Internet Explorer\n",
      "FPS_BROWSER_USER_PROFILE_STRING = Default\n",
      "HOME = C:\\Users\\ivan1\n",
      "HOMEDRIVE = C:\n",
      "HOMEPATH = \\Users\\ivan1\n",
      "HOSTNAME = LAPTOP-K7A5MDS9\n",
      "INFOPATH = C:\\Program Files\\Git\\usr\\local\\info;C:\\Program Files\\Git\\usr\\share\\info;C:\\Program Files\\Git\\usr\\info;C:\\Program Files\\Git\\share\\info\n",
      "JPY_INTERRUPT_EVENT = 1984\n",
      "LC_CTYPE = es_ES.UTF-8\n",
      "LOCALAPPDATA = C:\\Users\\ivan1\\AppData\\Local\n",
      "LOGONSERVER = \\\\LAPTOP-K7A5MDS9\n",
      "MANPATH = C:\\Program Files\\Git\\mingw64\\local\\man;C:\\Program Files\\Git\\mingw64\\share\\man;C:\\Program Files\\Git\\usr\\local\\man;C:\\Program Files\\Git\\usr\\share\\man;C:\\Program Files\\Git\\usr\\man;C:\\Program Files\\Git\\share\\man\n",
      "MINGW_CHOST = x86_64-w64-mingw32\n",
      "MINGW_PACKAGE_PREFIX = mingw-w64-x86_64\n",
      "MINGW_PREFIX = C:/Program Files/Git/mingw64\n",
      "MSYSTEM = MINGW64\n",
      "MSYSTEM_CARCH = x86_64\n",
      "MSYSTEM_CHOST = x86_64-w64-mingw32\n",
      "MSYSTEM_PREFIX = C:/Program Files/Git/mingw64\n",
      "NUMBER_OF_PROCESSORS = 8\n",
      "ONEDRIVE = C:\\Users\\ivan1\\OneDrive\n",
      "ORIGINAL_PATH = C:\\Program Files\\Git\\mingw64\\bin;C:\\Program Files\\Git\\usr\\bin;C:\\Users\\ivan1\\bin;C:\\Program Files\\Common Files\\Oracle\\Java\\javapath;C:\\Program Files (x86)\\Common Files\\Oracle\\Java\\javapath;C:\\Windows\\system32;C:\\Windows;C:\\Windows\\System32\\Wbem;C:\\Windows\\System32\\WindowsPowerShell\\v1.0;C:\\Windows\\System32\\OpenSSH;C:\\Program Files (x86)\\NVIDIA Corporation\\PhysX\\Common;C:\\Program Files\\NVIDIA Corporation\\NVIDIA NvDLISR;C:\\Program Files\\Git\\cmd;C:\\Program Files\\Git\\mingw64\\bin;C:\\Program Files\\Git\\usr\\bin;C:\\xampp\\php;C:\\ProgramData\\ComposerSetup\\bin;C:\\MinGW\\bin;C:\\Users\\ivan1\\AppData\\Local\\Programs\\Microsoft VS Code\\bin;C:\\Users\\ivan1\\AppData\\Local\\Programs\\cursor\\resources\\app\\bin;C:\\Program Files\\Docker\\Docker\\resources\\bin;C:\\Program Files\\AutoFirma\\AutoFirma;C:\\Users\\ivan1\\AppData\\Local\\Programs\\Python\\Python311\\Scripts;C:\\Users\\ivan1\\AppData\\Local\\Programs\\Python\\Python311;C:\\Users\\ivan1\\AppData\\Local\\Microsoft\\WindowsApps;C:\\Users\\ivan1\\AppData\\Roaming\\Composer\\vendor\\bin;C:\\Program Files\\JetBrains\\PhpStorm 2022.1\\bin;C:\\Users\\ivan1\\AppData\\Local\\GitHubDesktop\\bin;C:\\MinGW;C:\\Users\\ivan1\\Downloads\\kubectl.exe;C:\\Program Files\\MySQL\\MySQL Server 8.0\\bin\\mysql.exe;C:\\Users\\ivan1\\AppData\\Local\\Programs\\Python\\Python312\\Scripts;C:\\Users\\ivan1\\AppData\\Local\\Programs\\Python\\Python312;C:\\Users\\ivan1\\AppData\\Local\\Programs\\Python\\Python311\\Scripts;C:\\Users\\ivan1\\AppData\\Local\\Programs\\Python\\Python311;C:\\Users\\ivan1\\AppData\\Local\\Microsoft\\WindowsApps;C:\\Users\\ivan1\\AppData\\Roaming\\Composer\\vendor\\bin;C:\\Program Files\\JetBrains\\PhpStorm 2022.1\\bin;C:\\Users\\ivan1\\AppData\\Local\\GitHubDesktop\\bin;C:\\MinGW\\bin;C:\\Program Files\\Java\\jdk-21\\bin;C:\\Users\\ivan1\\AppData\\Local\\Programs\\oh-my-posh\\bin;C:\\Program Files\\Notepad++;C:\\Program Files\\MySQL\\MySQL Server 8.0\\bin;C:\\Users\\ivan1\\AppData\\Local\\Programs\\Microsoft VS Code\\bin\n",
      "ORIGINAL_TEMP = C:/Users/ivan1/AppData/Local/Temp\n",
      "ORIGINAL_TMP = C:/Users/ivan1/AppData/Local/Temp\n",
      "ORIGINAL_XDG_CURRENT_DESKTOP = undefined\n",
      "OS = Windows_NT\n",
      "PATH = d:\\Workspace\\ner_alternatives\\.venv\\Scripts;D:\\Workspace\\ner_alternatives\\.venv\\Scripts;C:\\Users\\ivan1\\bin;C:\\Program Files\\Git\\mingw64\\bin;C:\\Program Files\\Git\\usr\\local\\bin;C:\\Program Files\\Git\\usr\\bin;C:\\Program Files\\Git\\usr\\bin;C:\\Program Files\\Git\\mingw64\\bin;C:\\Program Files\\Git\\usr\\bin;C:\\Users\\ivan1\\bin;C:\\Program Files\\Common Files\\Oracle\\Java\\javapath;C:\\Program Files (x86)\\Common Files\\Oracle\\Java\\javapath;C:\\Windows\\system32;C:\\Windows;C:\\Windows\\System32\\Wbem;C:\\Windows\\System32\\WindowsPowerShell\\v1.0;C:\\Windows\\System32\\OpenSSH;C:\\Program Files (x86)\\NVIDIA Corporation\\PhysX\\Common;C:\\Program Files\\NVIDIA Corporation\\NVIDIA NvDLISR;C:\\Program Files\\Git\\cmd;C:\\Program Files\\Git\\mingw64\\bin;C:\\Program Files\\Git\\usr\\bin;C:\\xampp\\php;C:\\ProgramData\\ComposerSetup\\bin;C:\\MinGW\\bin;C:\\Users\\ivan1\\AppData\\Local\\Programs\\Microsoft VS Code\\bin;C:\\Users\\ivan1\\AppData\\Local\\Programs\\cursor\\resources\\app\\bin;C:\\Program Files\\Docker\\Docker\\resources\\bin;C:\\Program Files\\AutoFirma\\AutoFirma;C:\\Users\\ivan1\\AppData\\Local\\Programs\\Python\\Python311\\Scripts;C:\\Users\\ivan1\\AppData\\Local\\Programs\\Python\\Python311;C:\\Users\\ivan1\\AppData\\Local\\Microsoft\\WindowsApps;C:\\Users\\ivan1\\AppData\\Roaming\\Composer\\vendor\\bin;C:\\Program Files\\JetBrains\\PhpStorm 2022.1\\bin;C:\\Users\\ivan1\\AppData\\Local\\GitHubDesktop\\bin;C:\\MinGW;C:\\Users\\ivan1\\Downloads\\kubectl.exe;C:\\Program Files\\MySQL\\MySQL Server 8.0\\bin\\mysql.exe;C:\\Users\\ivan1\\AppData\\Local\\Programs\\Python\\Python312\\Scripts;C:\\Users\\ivan1\\AppData\\Local\\Programs\\Python\\Python312;C:\\Users\\ivan1\\AppData\\Local\\Programs\\Python\\Python311\\Scripts;C:\\Users\\ivan1\\AppData\\Local\\Programs\\Python\\Python311;C:\\Users\\ivan1\\AppData\\Local\\Microsoft\\WindowsApps;C:\\Users\\ivan1\\AppData\\Roaming\\Composer\\vendor\\bin;C:\\Program Files\\JetBrains\\PhpStorm 2022.1\\bin;C:\\Users\\ivan1\\AppData\\Local\\GitHubDesktop\\bin;C:\\MinGW\\bin;C:\\Program Files\\Java\\jdk-21\\bin;C:\\Users\\ivan1\\AppData\\Local\\Programs\\oh-my-posh\\bin;C:\\Program Files\\Notepad++;C:\\Program Files\\MySQL\\MySQL Server 8.0\\bin;C:\\Users\\ivan1\\AppData\\Local\\Programs\\Microsoft VS Code\\bin;C:\\Program Files\\Git\\usr\\bin\\vendor_perl;C:\\Program Files\\Git\\usr\\bin\\core_perl\n",
      "PATHEXT = .COM;.EXE;.BAT;.CMD;.VBS;.VBE;.JS;.JSE;.WSF;.WSH;.MSC\n",
      "PHPSTORM = C:\\Program Files\\JetBrains\\PhpStorm 2022.1\\bin;\n",
      "PKG_CONFIG_PATH = C:\\Program Files\\Git\\mingw64\\lib\\pkgconfig;C:\\Program Files\\Git\\mingw64\\share\\pkgconfig\n",
      "PLINK_PROTOCOL = ssh\n",
      "POSH_INSTALLER = winget\n",
      "POSH_THEMES_PATH = C:\\Users\\ivan1\\AppData\\Local\\Programs\\oh-my-posh\\themes\n",
      "PROCESSOR_ARCHITECTURE = AMD64\n",
      "PROCESSOR_IDENTIFIER = Intel64 Family 6 Model 142 Stepping 12, GenuineIntel\n",
      "PROCESSOR_LEVEL = 6\n",
      "PROCESSOR_REVISION = 8e0c\n",
      "PROGRAMDATA = C:\\ProgramData\n",
      "PROGRAMFILES = C:\\Program Files\n",
      "PROGRAMFILES(X86) = C:\\Program Files (x86)\n",
      "PROGRAMW6432 = C:\\Program Files\n",
      "PROMPT = (.venv) $P$G\n",
      "PSMODULEPATH = C:\\Program Files\\WindowsPowerShell\\Modules;C:\\Windows\\system32\\WindowsPowerShell\\v1.0\\Modules\n",
      "PUBLIC = C:\\Users\\Public\n",
      "PWD = D:/Workspace/ner_alternatives\n",
      "PYDEVD_IPYTHON_COMPATIBLE_DEBUGGING = 1\n",
      "PYTHONIOENCODING = utf-8\n",
      "PYTHONUNBUFFERED = 1\n",
      "PYTHON_FROZEN_MODULES = on\n",
      "SESSIONNAME = Console\n",
      "SHELL = C:\\Program Files\\Git\\usr\\bin\\bash.exe\n",
      "SHLVL = 2\n",
      "SSH_ASKPASS = C:/Program Files/Git/mingw64/bin/git-askpass.exe\n",
      "SYSTEMDRIVE = C:\n",
      "SYSTEMROOT = C:\\Windows\n",
      "TEMP = C:\\Users\\ivan1\\AppData\\Local\\Temp\n",
      "TERM = xterm-color\n",
      "TERM_PROGRAM = mintty\n",
      "TERM_PROGRAM_VERSION = 3.5.2\n",
      "TMP = C:\\Users\\ivan1\\AppData\\Local\\Temp\n",
      "TMPDIR = C:\\Users\\ivan1\\AppData\\Local\\Temp\n",
      "USERDOMAIN = LAPTOP-K7A5MDS9\n",
      "USERDOMAIN_ROAMINGPROFILE = LAPTOP-K7A5MDS9\n",
      "USERNAME = ivan1\n",
      "USERPROFILE = C:\\Users\\ivan1\n",
      "VIRTUAL_ENV = D:\\Workspace\\ner_alternatives\\.venv\n",
      "VIRTUAL_ENV_PROMPT = (.venv) \n",
      "VSCODE_AMD_ENTRYPOINT = vs/workbench/api/node/extensionHostProcess\n",
      "VSCODE_CLI = 1\n",
      "VSCODE_CODE_CACHE_PATH = C:\\Users\\ivan1\\AppData\\Roaming\\Code\\CachedData\\fee1edb8d6d72a0ddff41e5f71a671c23ed924b9\n",
      "VSCODE_CRASH_REPORTER_PROCESS_TYPE = extensionHost\n",
      "VSCODE_CWD = D:\\Workspace\\ner_alternatives\n",
      "VSCODE_HANDLES_UNCAUGHT_ERRORS = true\n",
      "VSCODE_IPC_HOOK = \\\\.\\pipe\\a904acfb-1.92.2-main-sock\n",
      "VSCODE_L10N_BUNDLE_LOCATION = \n",
      "VSCODE_NLS_CONFIG = {\"userLocale\":\"en-us\",\"osLocale\":\"es-es\",\"resolvedLanguage\":\"en\",\"defaultMessagesFile\":\"C:\\\\Users\\\\ivan1\\\\AppData\\\\Local\\\\Programs\\\\Microsoft VS Code\\\\resources\\\\app\\\\out\\\\nls.messages.json\",\"locale\":\"en\",\"availableLanguages\":{}}\n",
      "VSCODE_PID = 11292\n",
      "WINDIR = C:\\Windows\n",
      "ZES_ENABLE_SYSMAN = 1\n",
      "_ = C:/Users/ivan1/AppData/Local/Programs/Microsoft VS Code/Code.exe\n",
      "_OLD_VIRTUAL_PATH = C:\\Users\\ivan1\\bin;C:\\Program Files\\Git\\mingw64\\bin;C:\\Program Files\\Git\\usr\\local\\bin;C:\\Program Files\\Git\\usr\\bin;C:\\Program Files\\Git\\usr\\bin;C:\\Program Files\\Git\\mingw64\\bin;C:\\Program Files\\Git\\usr\\bin;C:\\Users\\ivan1\\bin;C:\\Program Files\\Common Files\\Oracle\\Java\\javapath;C:\\Program Files (x86)\\Common Files\\Oracle\\Java\\javapath;C:\\Windows\\system32;C:\\Windows;C:\\Windows\\System32\\Wbem;C:\\Windows\\System32\\WindowsPowerShell\\v1.0;C:\\Windows\\System32\\OpenSSH;C:\\Program Files (x86)\\NVIDIA Corporation\\PhysX\\Common;C:\\Program Files\\NVIDIA Corporation\\NVIDIA NvDLISR;C:\\Program Files\\Git\\cmd;C:\\Program Files\\Git\\mingw64\\bin;C:\\Program Files\\Git\\usr\\bin;C:\\xampp\\php;C:\\ProgramData\\ComposerSetup\\bin;C:\\MinGW\\bin;C:\\Users\\ivan1\\AppData\\Local\\Programs\\Microsoft VS Code\\bin;C:\\Users\\ivan1\\AppData\\Local\\Programs\\cursor\\resources\\app\\bin;C:\\Program Files\\Docker\\Docker\\resources\\bin;C:\\Program Files\\AutoFirma\\AutoFirma;C:\\Users\\ivan1\\AppData\\Local\\Programs\\Python\\Python311\\Scripts;C:\\Users\\ivan1\\AppData\\Local\\Programs\\Python\\Python311;C:\\Users\\ivan1\\AppData\\Local\\Microsoft\\WindowsApps;C:\\Users\\ivan1\\AppData\\Roaming\\Composer\\vendor\\bin;C:\\Program Files\\JetBrains\\PhpStorm 2022.1\\bin;C:\\Users\\ivan1\\AppData\\Local\\GitHubDesktop\\bin;C:\\MinGW;C:\\Users\\ivan1\\Downloads\\kubectl.exe;C:\\Program Files\\MySQL\\MySQL Server 8.0\\bin\\mysql.exe;C:\\Users\\ivan1\\AppData\\Local\\Programs\\Python\\Python312\\Scripts;C:\\Users\\ivan1\\AppData\\Local\\Programs\\Python\\Python312;C:\\Users\\ivan1\\AppData\\Local\\Programs\\Python\\Python311\\Scripts;C:\\Users\\ivan1\\AppData\\Local\\Programs\\Python\\Python311;C:\\Users\\ivan1\\AppData\\Local\\Microsoft\\WindowsApps;C:\\Users\\ivan1\\AppData\\Roaming\\Composer\\vendor\\bin;C:\\Program Files\\JetBrains\\PhpStorm 2022.1\\bin;C:\\Users\\ivan1\\AppData\\Local\\GitHubDesktop\\bin;C:\\MinGW\\bin;C:\\Program Files\\Java\\jdk-21\\bin;C:\\Users\\ivan1\\AppData\\Local\\Programs\\oh-my-posh\\bin;C:\\Program Files\\Notepad++;C:\\Program Files\\MySQL\\MySQL Server 8.0\\bin;C:\\Users\\ivan1\\AppData\\Local\\Programs\\Microsoft VS Code\\bin;C:\\Program Files\\Git\\usr\\bin\\vendor_perl;C:\\Program Files\\Git\\usr\\bin\\core_perl\n",
      "_OLD_VIRTUAL_PROMPT = $P$G\n",
      "__PSLOCKDOWNPOLICY = 0\n",
      "PYDEVD_USE_FRAME_EVAL = NO\n",
      "CLICOLOR = 1\n",
      "FORCE_COLOR = 1\n",
      "CLICOLOR_FORCE = 1\n",
      "PAGER = cat\n",
      "GIT_PAGER = cat\n",
      "MPLBACKEND = module://matplotlib_inline.backend_inline\n"
     ]
    }
   ],
   "source": [
    "# printear todas las variables de entorno\n",
    "\n",
    "for key, value in os.environ.items():\n",
    "    print(f\"{key} = {value}\")"
   ]
  },
  {
   "cell_type": "code",
   "execution_count": 66,
   "metadata": {},
   "outputs": [],
   "source": [
    "def safe_json_loads(json_input):\n",
    "    json_input = json_input.replace(\"'\", '\"')\n",
    "    return json.loads(json_input)"
   ]
  },
  {
   "cell_type": "code",
   "execution_count": 67,
   "metadata": {},
   "outputs": [],
   "source": [
    "fine_tuning_data_dir = os.path.join(os.getcwd(), '..', 'resources')\n",
    "rest_fine_tuning_data_path = os.path.join(fine_tuning_data_dir, 'rest_fine_tuning_data.jsonl')"
   ]
  },
  {
   "cell_type": "code",
   "execution_count": 68,
   "metadata": {},
   "outputs": [
    {
     "ename": "OpenAIError",
     "evalue": "The api_key client option must be set either by passing api_key to the client or by setting the OPENAI_API_KEY environment variable",
     "output_type": "error",
     "traceback": [
      "\u001b[1;31m---------------------------------------------------------------------------\u001b[0m",
      "\u001b[1;31mOpenAIError\u001b[0m                               Traceback (most recent call last)",
      "Cell \u001b[1;32mIn[68], line 1\u001b[0m\n\u001b[1;32m----> 1\u001b[0m client \u001b[38;5;241m=\u001b[39m \u001b[43mOpenAI\u001b[49m\u001b[43m(\u001b[49m\u001b[43m)\u001b[49m\n\u001b[0;32m      3\u001b[0m client\u001b[38;5;241m.\u001b[39mfiles\u001b[38;5;241m.\u001b[39mcreate(\n\u001b[0;32m      4\u001b[0m   file\u001b[38;5;241m=\u001b[39m\u001b[38;5;28mopen\u001b[39m(rest_fine_tuning_data_path, \u001b[38;5;124m\"\u001b[39m\u001b[38;5;124mrb\u001b[39m\u001b[38;5;124m\"\u001b[39m),\n\u001b[0;32m      5\u001b[0m   purpose\u001b[38;5;241m=\u001b[39m\u001b[38;5;124m\"\u001b[39m\u001b[38;5;124mfine-tune\u001b[39m\u001b[38;5;124m\"\u001b[39m\n\u001b[0;32m      6\u001b[0m )\n",
      "File \u001b[1;32md:\\Workspace\\ner_alternatives\\.venv\\Lib\\site-packages\\openai\\_client.py:105\u001b[0m, in \u001b[0;36mOpenAI.__init__\u001b[1;34m(self, api_key, organization, project, base_url, timeout, max_retries, default_headers, default_query, http_client, _strict_response_validation)\u001b[0m\n\u001b[0;32m    103\u001b[0m     api_key \u001b[38;5;241m=\u001b[39m os\u001b[38;5;241m.\u001b[39menviron\u001b[38;5;241m.\u001b[39mget(\u001b[38;5;124m\"\u001b[39m\u001b[38;5;124mOPENAI_API_KEY\u001b[39m\u001b[38;5;124m\"\u001b[39m)\n\u001b[0;32m    104\u001b[0m \u001b[38;5;28;01mif\u001b[39;00m api_key \u001b[38;5;129;01mis\u001b[39;00m \u001b[38;5;28;01mNone\u001b[39;00m:\n\u001b[1;32m--> 105\u001b[0m     \u001b[38;5;28;01mraise\u001b[39;00m OpenAIError(\n\u001b[0;32m    106\u001b[0m         \u001b[38;5;124m\"\u001b[39m\u001b[38;5;124mThe api_key client option must be set either by passing api_key to the client or by setting the OPENAI_API_KEY environment variable\u001b[39m\u001b[38;5;124m\"\u001b[39m\n\u001b[0;32m    107\u001b[0m     )\n\u001b[0;32m    108\u001b[0m \u001b[38;5;28mself\u001b[39m\u001b[38;5;241m.\u001b[39mapi_key \u001b[38;5;241m=\u001b[39m api_key\n\u001b[0;32m    110\u001b[0m \u001b[38;5;28;01mif\u001b[39;00m organization \u001b[38;5;129;01mis\u001b[39;00m \u001b[38;5;28;01mNone\u001b[39;00m:\n",
      "\u001b[1;31mOpenAIError\u001b[0m: The api_key client option must be set either by passing api_key to the client or by setting the OPENAI_API_KEY environment variable"
     ]
    }
   ],
   "source": [
    "client = OpenAI()\n",
    "\n",
    "client.files.create(\n",
    "  file=open(rest_fine_tuning_data_path, \"rb\"),\n",
    "  purpose=\"fine-tune\"\n",
    ")"
   ]
  },
  {
   "cell_type": "code",
   "execution_count": null,
   "metadata": {},
   "outputs": [],
   "source": []
  }
 ],
 "metadata": {
  "kernelspec": {
   "display_name": ".venv",
   "language": "python",
   "name": "python3"
  },
  "language_info": {
   "codemirror_mode": {
    "name": "ipython",
    "version": 3
   },
   "file_extension": ".py",
   "mimetype": "text/x-python",
   "name": "python",
   "nbconvert_exporter": "python",
   "pygments_lexer": "ipython3",
   "version": "3.11.8"
  }
 },
 "nbformat": 4,
 "nbformat_minor": 2
}
